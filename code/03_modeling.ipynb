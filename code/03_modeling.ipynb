{
 "cells": [
  {
   "cell_type": "markdown",
   "id": "1da9dd6c-9d5a-4ef8-90a9-a2688e87ce6d",
   "metadata": {
    "tags": []
   },
   "source": [
    "## Notebook 3 - Modeling\n",
    "### Project 3 | DSI 523 | Adriana J. Machado \n",
    "-----"
   ]
  },
  {
   "cell_type": "markdown",
   "id": "b1747584-7db8-4967-ab9c-77b7259381ff",
   "metadata": {},
   "source": [
    "## Table of Contents\n",
    "### [5.0 Modeling](#5.0-Modeling)\n",
    "### [5.1 Models](#5.1-Models)\n",
    "> ### [5.1.1 CountVectorizer and Multinomial Naive Bayes](#5.1.1-CountVectorizer-and-Multinomial-Naive-Bayes)\n",
    "> ### [5.1.2 CountVectorizer and Logistic Regression](#5.1.2-CountVectorizer-and-Logistic-Regression)\n",
    "> ### [5.1.3 TFIDF and Multinomial Naive Bayes](#5.1.3-TFIDF-and-Multinomial-Naive-Bayes)\n",
    "> ### [5.1.4 TFIDF and Logistic Regression](#5.1.4-TFIDF-and-Logistic-Regression)\n",
    "### [5.2 Model Comparisons](#5.2-Model-Comparisons)\n",
    "### [5.3 Model Winner](#5.3-Model-Winner)\n",
    "### [5.4 (Bonus) DecisionTree and VoteSearch](#5.4-(Bonus)-DecisionTree-and-VoteSearch)\n",
    "-----"
   ]
  },
  {
   "cell_type": "markdown",
   "id": "57e7655b-78c1-4ac2-9ee4-a602075c5020",
   "metadata": {
    "tags": []
   },
   "source": [
    "# 5.0 Modeling\n",
    "-----"
   ]
  },
  {
   "cell_type": "markdown",
   "id": "46be9af5-ecf0-4182-b023-dc2053903731",
   "metadata": {
    "tags": []
   },
   "source": [
    "## Imports"
   ]
  },
  {
   "cell_type": "code",
   "execution_count": 1,
   "id": "3345f240-3be8-494f-90b1-54a6ca26b332",
   "metadata": {},
   "outputs": [],
   "source": [
    "import pandas as pd\n",
    "import numpy as np\n",
    "import matplotlib.pyplot as plt\n",
    "import seaborn as sns\n",
    "\n",
    "from sklearn.model_selection import train_test_split, GridSearchCV, cross_val_score\n",
    "from sklearn.pipeline import Pipeline\n",
    "from sklearn.feature_extraction.text import CountVectorizer, TfidfVectorizer\n",
    "from sklearn.preprocessing import StandardScaler\n",
    "from sklearn.linear_model import LogisticRegression\n",
    "from sklearn.naive_bayes import MultinomialNB\n",
    "from sklearn.tree import DecisionTreeClassifier\n",
    "from sklearn.metrics import confusion_matrix, plot_confusion_matrix, classification_report\n",
    "from sklearn.ensemble import BaggingClassifier\n",
    "from sklearn.ensemble import RandomForestClassifier, RandomForestRegressor, ExtraTreesClassifier\n",
    "from sklearn.ensemble import GradientBoostingClassifier, AdaBoostClassifier, VotingClassifier\n",
    "\n",
    "# warnings\n",
    "import warnings\n",
    "warnings.simplefilter(\"ignore\")\n",
    "import warnings\n",
    "with warnings.catch_warnings():\n",
    "    warnings.filterwarnings(\"ignore\", category=DeprecationWarning)\n",
    "\n",
    "# formatting\n",
    "pd.set_option('display.max_columns', None)\n",
    "pd.options.display.max_colwidth = 400\n",
    "\n",
    "import pickle"
   ]
  },
  {
   "cell_type": "code",
   "execution_count": 2,
   "id": "329938cc-bc6d-42a0-a42d-bbb06cb168b9",
   "metadata": {},
   "outputs": [],
   "source": [
    "%store -r shower_words\n",
    "%store -r intrusive_words\n",
    "\n",
    "df = pd.read_csv('../data/intrusive_shower_final.csv')"
   ]
  },
  {
   "cell_type": "code",
   "execution_count": 3,
   "id": "daaaacf6-3330-47fc-969a-02464226b16b",
   "metadata": {},
   "outputs": [
    {
     "data": {
      "text/html": [
       "<div>\n",
       "<style scoped>\n",
       "    .dataframe tbody tr th:only-of-type {\n",
       "        vertical-align: middle;\n",
       "    }\n",
       "\n",
       "    .dataframe tbody tr th {\n",
       "        vertical-align: top;\n",
       "    }\n",
       "\n",
       "    .dataframe thead th {\n",
       "        text-align: right;\n",
       "    }\n",
       "</style>\n",
       "<table border=\"1\" class=\"dataframe\">\n",
       "  <thead>\n",
       "    <tr style=\"text-align: right;\">\n",
       "      <th></th>\n",
       "      <th>is_shower</th>\n",
       "      <th>subreddit</th>\n",
       "      <th>created_utc</th>\n",
       "      <th>title</th>\n",
       "      <th>selftext</th>\n",
       "      <th>upvote_ratio</th>\n",
       "      <th>title_token</th>\n",
       "      <th>selftext_token</th>\n",
       "      <th>title_no_stop</th>\n",
       "      <th>selftext_no_stop</th>\n",
       "      <th>title_sent</th>\n",
       "      <th>selftext_sent</th>\n",
       "      <th>overall_sent</th>\n",
       "      <th>title_self</th>\n",
       "    </tr>\n",
       "  </thead>\n",
       "  <tbody>\n",
       "    <tr>\n",
       "      <th>0</th>\n",
       "      <td>0</td>\n",
       "      <td>intrusivethoughts</td>\n",
       "      <td>1656469973</td>\n",
       "      <td>i am extremely scared my left eye is moving slowly downwards on my face</td>\n",
       "      <td>redacted</td>\n",
       "      <td>1.0</td>\n",
       "      <td>['i', 'am', 'extremely', 'scared', 'my', 'left', 'eye', 'is', 'moving', 'slowly', 'downwards', 'on', 'my', 'face']</td>\n",
       "      <td>['redacted']</td>\n",
       "      <td>['i', 'am', 'extremely', 'scared', 'my', 'left', 'eye', 'is', 'moving', 'slowly', 'downwards', 'on', 'my', 'face']</td>\n",
       "      <td>['redacted']</td>\n",
       "      <td>-0.4927</td>\n",
       "      <td>0.0000</td>\n",
       "      <td>-0.4927</td>\n",
       "      <td>i am extremely scared my left eye is moving slowly downwards on my face</td>\n",
       "    </tr>\n",
       "    <tr>\n",
       "      <th>1</th>\n",
       "      <td>0</td>\n",
       "      <td>intrusivethoughts</td>\n",
       "      <td>1656468826</td>\n",
       "      <td>here's a list of my intrusive thoughts</td>\n",
       "      <td>jump in front of a car run people over go knife happy throw water over electrics shout racial abuse  shoot  a school up  why is my brain doing this to me!!!!! 😢😢😢😢</td>\n",
       "      <td>1.0</td>\n",
       "      <td>['here', \"'s\", 'a', 'list', 'of', 'my', 'intrusive', 'thoughts']</td>\n",
       "      <td>['jump', 'in', 'front', 'of', 'a', 'car', 'run', 'people', 'over', 'go', 'knife', 'happy', 'throw', 'water', 'over', 'electrics', 'shout', 'racial', 'abuse', 'shoot', 'a', 'school', 'up', 'why', 'is', 'my', 'brain', 'doing', 'this', 'to', 'me', '!!!!!', '😢😢😢😢']</td>\n",
       "      <td>['here', \"'s\", 'a', 'list', 'of', 'my', 'intrusive', 'thoughts']</td>\n",
       "      <td>['jump', 'in', 'front', 'of', 'a', 'car', 'run', 'people', 'over', 'go', 'knife', 'happy', 'throw', 'water', 'over', 'electrics', 'shout', 'racial', 'abuse', 'shoot', 'a', 'school', 'up', 'why', 'is', 'my', 'brain', 'doing', 'this', 'to', 'me', '!!!!!', '😢😢😢😢']</td>\n",
       "      <td>0.0000</td>\n",
       "      <td>-0.6209</td>\n",
       "      <td>-0.6209</td>\n",
       "      <td>here's a list of my intrusive thoughts jump in front of a car run people over go knife happy throw water over electrics shout racial abuse  shoot  a school up  why is my brain doing this to me!!!!! 😢😢😢😢</td>\n",
       "    </tr>\n",
       "    <tr>\n",
       "      <th>2</th>\n",
       "      <td>0</td>\n",
       "      <td>intrusivethoughts</td>\n",
       "      <td>1656464538</td>\n",
       "      <td>step on your cat</td>\n",
       "      <td>i love her so much but....she's just lying there, in the way ... could i crush her scull?</td>\n",
       "      <td>1.0</td>\n",
       "      <td>['step', 'on', 'your', 'cat']</td>\n",
       "      <td>['i', 'love', 'her', 'so', 'much', 'but', \"....she's\", 'just', 'lying', 'there', ',', 'in', 'the', 'way', '...', 'could', 'i', 'crush', 'her', 'scull', '?']</td>\n",
       "      <td>['step', 'on', 'your', 'cat']</td>\n",
       "      <td>['i', 'love', 'her', 'so', 'much', 'but', \"....she's\", 'just', 'lying', 'there', ',', 'in', 'the', 'way', '...', 'could', 'i', 'crush', 'her', 'scull', '?']</td>\n",
       "      <td>0.0000</td>\n",
       "      <td>0.0516</td>\n",
       "      <td>0.0516</td>\n",
       "      <td>step on your cat i love her so much but....she's just lying there, in the way ... could i crush her scull?</td>\n",
       "    </tr>\n",
       "    <tr>\n",
       "      <th>3</th>\n",
       "      <td>0</td>\n",
       "      <td>intrusivethoughts</td>\n",
       "      <td>1656459837</td>\n",
       "      <td>intrusive thoughts</td>\n",
       "      <td>are paranoid intrusive thoughts a thing??</td>\n",
       "      <td>1.0</td>\n",
       "      <td>['intrusive', 'thoughts']</td>\n",
       "      <td>['are', 'paranoid', 'intrusive', 'thoughts', 'a', 'thing', '??']</td>\n",
       "      <td>['intrusive', 'thoughts']</td>\n",
       "      <td>['are', 'paranoid', 'intrusive', 'thoughts', 'a', 'thing', '??']</td>\n",
       "      <td>0.0000</td>\n",
       "      <td>-0.3313</td>\n",
       "      <td>-0.3313</td>\n",
       "      <td>intrusive thoughts are paranoid intrusive thoughts a thing??</td>\n",
       "    </tr>\n",
       "    <tr>\n",
       "      <th>4</th>\n",
       "      <td>0</td>\n",
       "      <td>intrusivethoughts</td>\n",
       "      <td>1656458075</td>\n",
       "      <td>bash your head against the painting and cut your eyes out with the glass</td>\n",
       "      <td>aaaaaaaaaaaaaaaaaaaaaaaaaaaaaaaaaaaaaaaaaaaaaaaaaaaaaaaaahhhhh  do it now! do it right fucking now  aaaaaaaaaaaaaaaaaaaaaaaaaaaaaaaaaaaaaaaaaaaaaaaaaaaaaaaaahhhhh</td>\n",
       "      <td>1.0</td>\n",
       "      <td>['bash', 'your', 'head', 'against', 'the', 'painting', 'and', 'cut', 'your', 'eyes', 'out', 'with', 'the', 'glass']</td>\n",
       "      <td>['aaaaaaaaaaaaaaaaaaaaaaaaaaaaaaaaaaaaaaaaaaaaaaaaaaaaaaaaahhhhh', 'do', 'it', 'now', '!', 'do', 'it', 'right', 'fucking', 'now', 'aaaaaaaaaaaaaaaaaaaaaaaaaaaaaaaaaaaaaaaaaaaaaaaaaaaaaaaaahhhhh']</td>\n",
       "      <td>['bash', 'your', 'head', 'against', 'the', 'painting', 'and', 'cut', 'your', 'eyes', 'out', 'with', 'the', 'glass']</td>\n",
       "      <td>['aaaaaaaaaaaaaaaaaaaaaaaaaaaaaaaaaaaaaaaaaaaaaaaaaaaaaaaaahhhhh', 'do', 'it', 'now', '!', 'do', 'it', 'right', 'fucking', 'now', 'aaaaaaaaaaaaaaaaaaaaaaaaaaaaaaaaaaaaaaaaaaaaaaaaaaaaaaaaahhhhh']</td>\n",
       "      <td>-0.2732</td>\n",
       "      <td>0.0000</td>\n",
       "      <td>-0.2732</td>\n",
       "      <td>bash your head against the painting and cut your eyes out with the glass aaaaaaaaaaaaaaaaaaaaaaaaaaaaaaaaaaaaaaaaaaaaaaaaaaaaaaaaahhhhh  do it now! do it right fucking now  aaaaaaaaaaaaaaaaaaaaaaaaaaaaaaaaaaaaaaaaaaaaaaaaaaaaaaaaahhhhh</td>\n",
       "    </tr>\n",
       "  </tbody>\n",
       "</table>\n",
       "</div>"
      ],
      "text/plain": [
       "   is_shower          subreddit  created_utc  \\\n",
       "0          0  intrusivethoughts   1656469973   \n",
       "1          0  intrusivethoughts   1656468826   \n",
       "2          0  intrusivethoughts   1656464538   \n",
       "3          0  intrusivethoughts   1656459837   \n",
       "4          0  intrusivethoughts   1656458075   \n",
       "\n",
       "                                                                      title  \\\n",
       "0   i am extremely scared my left eye is moving slowly downwards on my face   \n",
       "1                                    here's a list of my intrusive thoughts   \n",
       "2                                                          step on your cat   \n",
       "3                                                        intrusive thoughts   \n",
       "4  bash your head against the painting and cut your eyes out with the glass   \n",
       "\n",
       "                                                                                                                                                              selftext  \\\n",
       "0                                                                                                                                                             redacted   \n",
       "1  jump in front of a car run people over go knife happy throw water over electrics shout racial abuse  shoot  a school up  why is my brain doing this to me!!!!! 😢😢😢😢   \n",
       "2                                                                            i love her so much but....she's just lying there, in the way ... could i crush her scull?   \n",
       "3                                                                                                                            are paranoid intrusive thoughts a thing??   \n",
       "4   aaaaaaaaaaaaaaaaaaaaaaaaaaaaaaaaaaaaaaaaaaaaaaaaaaaaaaaaahhhhh  do it now! do it right fucking now  aaaaaaaaaaaaaaaaaaaaaaaaaaaaaaaaaaaaaaaaaaaaaaaaaaaaaaaaahhhhh   \n",
       "\n",
       "   upvote_ratio  \\\n",
       "0           1.0   \n",
       "1           1.0   \n",
       "2           1.0   \n",
       "3           1.0   \n",
       "4           1.0   \n",
       "\n",
       "                                                                                                           title_token  \\\n",
       "0   ['i', 'am', 'extremely', 'scared', 'my', 'left', 'eye', 'is', 'moving', 'slowly', 'downwards', 'on', 'my', 'face']   \n",
       "1                                                     ['here', \"'s\", 'a', 'list', 'of', 'my', 'intrusive', 'thoughts']   \n",
       "2                                                                                        ['step', 'on', 'your', 'cat']   \n",
       "3                                                                                            ['intrusive', 'thoughts']   \n",
       "4  ['bash', 'your', 'head', 'against', 'the', 'painting', 'and', 'cut', 'your', 'eyes', 'out', 'with', 'the', 'glass']   \n",
       "\n",
       "                                                                                                                                                                                                                                                          selftext_token  \\\n",
       "0                                                                                                                                                                                                                                                           ['redacted']   \n",
       "1  ['jump', 'in', 'front', 'of', 'a', 'car', 'run', 'people', 'over', 'go', 'knife', 'happy', 'throw', 'water', 'over', 'electrics', 'shout', 'racial', 'abuse', 'shoot', 'a', 'school', 'up', 'why', 'is', 'my', 'brain', 'doing', 'this', 'to', 'me', '!!!!!', '😢😢😢😢']   \n",
       "2                                                                                                           ['i', 'love', 'her', 'so', 'much', 'but', \"....she's\", 'just', 'lying', 'there', ',', 'in', 'the', 'way', '...', 'could', 'i', 'crush', 'her', 'scull', '?']   \n",
       "3                                                                                                                                                                                                       ['are', 'paranoid', 'intrusive', 'thoughts', 'a', 'thing', '??']   \n",
       "4                                                                    ['aaaaaaaaaaaaaaaaaaaaaaaaaaaaaaaaaaaaaaaaaaaaaaaaaaaaaaaaahhhhh', 'do', 'it', 'now', '!', 'do', 'it', 'right', 'fucking', 'now', 'aaaaaaaaaaaaaaaaaaaaaaaaaaaaaaaaaaaaaaaaaaaaaaaaaaaaaaaaahhhhh']   \n",
       "\n",
       "                                                                                                         title_no_stop  \\\n",
       "0   ['i', 'am', 'extremely', 'scared', 'my', 'left', 'eye', 'is', 'moving', 'slowly', 'downwards', 'on', 'my', 'face']   \n",
       "1                                                     ['here', \"'s\", 'a', 'list', 'of', 'my', 'intrusive', 'thoughts']   \n",
       "2                                                                                        ['step', 'on', 'your', 'cat']   \n",
       "3                                                                                            ['intrusive', 'thoughts']   \n",
       "4  ['bash', 'your', 'head', 'against', 'the', 'painting', 'and', 'cut', 'your', 'eyes', 'out', 'with', 'the', 'glass']   \n",
       "\n",
       "                                                                                                                                                                                                                                                        selftext_no_stop  \\\n",
       "0                                                                                                                                                                                                                                                           ['redacted']   \n",
       "1  ['jump', 'in', 'front', 'of', 'a', 'car', 'run', 'people', 'over', 'go', 'knife', 'happy', 'throw', 'water', 'over', 'electrics', 'shout', 'racial', 'abuse', 'shoot', 'a', 'school', 'up', 'why', 'is', 'my', 'brain', 'doing', 'this', 'to', 'me', '!!!!!', '😢😢😢😢']   \n",
       "2                                                                                                           ['i', 'love', 'her', 'so', 'much', 'but', \"....she's\", 'just', 'lying', 'there', ',', 'in', 'the', 'way', '...', 'could', 'i', 'crush', 'her', 'scull', '?']   \n",
       "3                                                                                                                                                                                                       ['are', 'paranoid', 'intrusive', 'thoughts', 'a', 'thing', '??']   \n",
       "4                                                                    ['aaaaaaaaaaaaaaaaaaaaaaaaaaaaaaaaaaaaaaaaaaaaaaaaaaaaaaaaahhhhh', 'do', 'it', 'now', '!', 'do', 'it', 'right', 'fucking', 'now', 'aaaaaaaaaaaaaaaaaaaaaaaaaaaaaaaaaaaaaaaaaaaaaaaaaaaaaaaaahhhhh']   \n",
       "\n",
       "   title_sent  selftext_sent  overall_sent  \\\n",
       "0     -0.4927         0.0000       -0.4927   \n",
       "1      0.0000        -0.6209       -0.6209   \n",
       "2      0.0000         0.0516        0.0516   \n",
       "3      0.0000        -0.3313       -0.3313   \n",
       "4     -0.2732         0.0000       -0.2732   \n",
       "\n",
       "                                                                                                                                                                                                                                    title_self  \n",
       "0                                                                                                                                                                      i am extremely scared my left eye is moving slowly downwards on my face  \n",
       "1                                   here's a list of my intrusive thoughts jump in front of a car run people over go knife happy throw water over electrics shout racial abuse  shoot  a school up  why is my brain doing this to me!!!!! 😢😢😢😢  \n",
       "2                                                                                                                                   step on your cat i love her so much but....she's just lying there, in the way ... could i crush her scull?  \n",
       "3                                                                                                                                                                                 intrusive thoughts are paranoid intrusive thoughts a thing??  \n",
       "4  bash your head against the painting and cut your eyes out with the glass aaaaaaaaaaaaaaaaaaaaaaaaaaaaaaaaaaaaaaaaaaaaaaaaaaaaaaaaahhhhh  do it now! do it right fucking now  aaaaaaaaaaaaaaaaaaaaaaaaaaaaaaaaaaaaaaaaaaaaaaaaaaaaaaaaahhhhh  "
      ]
     },
     "execution_count": 3,
     "metadata": {},
     "output_type": "execute_result"
    }
   ],
   "source": [
    "df.head()"
   ]
  },
  {
   "cell_type": "markdown",
   "id": "ed94a271-d9ba-4b1c-b965-d8d7f1e59314",
   "metadata": {},
   "source": [
    "### Remove Intrusive and Shower from title_self"
   ]
  },
  {
   "cell_type": "code",
   "execution_count": 4,
   "id": "3a987008-ece5-4c73-85da-e89e39ff0d7a",
   "metadata": {},
   "outputs": [],
   "source": [
    "df['title_self'] = df['title_self'].str.replace('intrusive', '')\n",
    "df['title_self'] = df['title_self'].str.replace('shower', '')"
   ]
  },
  {
   "cell_type": "code",
   "execution_count": 5,
   "id": "88aff307-b9b6-4ca5-8214-a3b9140d9bf7",
   "metadata": {},
   "outputs": [
    {
     "data": {
      "text/html": [
       "<div>\n",
       "<style scoped>\n",
       "    .dataframe tbody tr th:only-of-type {\n",
       "        vertical-align: middle;\n",
       "    }\n",
       "\n",
       "    .dataframe tbody tr th {\n",
       "        vertical-align: top;\n",
       "    }\n",
       "\n",
       "    .dataframe thead th {\n",
       "        text-align: right;\n",
       "    }\n",
       "</style>\n",
       "<table border=\"1\" class=\"dataframe\">\n",
       "  <thead>\n",
       "    <tr style=\"text-align: right;\">\n",
       "      <th></th>\n",
       "      <th>is_shower</th>\n",
       "      <th>subreddit</th>\n",
       "      <th>created_utc</th>\n",
       "      <th>title</th>\n",
       "      <th>selftext</th>\n",
       "      <th>upvote_ratio</th>\n",
       "      <th>title_token</th>\n",
       "      <th>selftext_token</th>\n",
       "      <th>title_no_stop</th>\n",
       "      <th>selftext_no_stop</th>\n",
       "      <th>title_sent</th>\n",
       "      <th>selftext_sent</th>\n",
       "      <th>overall_sent</th>\n",
       "      <th>title_self</th>\n",
       "    </tr>\n",
       "  </thead>\n",
       "  <tbody>\n",
       "    <tr>\n",
       "      <th>0</th>\n",
       "      <td>0</td>\n",
       "      <td>intrusivethoughts</td>\n",
       "      <td>1656469973</td>\n",
       "      <td>i am extremely scared my left eye is moving slowly downwards on my face</td>\n",
       "      <td>redacted</td>\n",
       "      <td>1.0</td>\n",
       "      <td>['i', 'am', 'extremely', 'scared', 'my', 'left', 'eye', 'is', 'moving', 'slowly', 'downwards', 'on', 'my', 'face']</td>\n",
       "      <td>['redacted']</td>\n",
       "      <td>['i', 'am', 'extremely', 'scared', 'my', 'left', 'eye', 'is', 'moving', 'slowly', 'downwards', 'on', 'my', 'face']</td>\n",
       "      <td>['redacted']</td>\n",
       "      <td>-0.4927</td>\n",
       "      <td>0.0000</td>\n",
       "      <td>-0.4927</td>\n",
       "      <td>i am extremely scared my left eye is moving slowly downwards on my face</td>\n",
       "    </tr>\n",
       "    <tr>\n",
       "      <th>1</th>\n",
       "      <td>0</td>\n",
       "      <td>intrusivethoughts</td>\n",
       "      <td>1656468826</td>\n",
       "      <td>here's a list of my intrusive thoughts</td>\n",
       "      <td>jump in front of a car run people over go knife happy throw water over electrics shout racial abuse  shoot  a school up  why is my brain doing this to me!!!!! 😢😢😢😢</td>\n",
       "      <td>1.0</td>\n",
       "      <td>['here', \"'s\", 'a', 'list', 'of', 'my', 'intrusive', 'thoughts']</td>\n",
       "      <td>['jump', 'in', 'front', 'of', 'a', 'car', 'run', 'people', 'over', 'go', 'knife', 'happy', 'throw', 'water', 'over', 'electrics', 'shout', 'racial', 'abuse', 'shoot', 'a', 'school', 'up', 'why', 'is', 'my', 'brain', 'doing', 'this', 'to', 'me', '!!!!!', '😢😢😢😢']</td>\n",
       "      <td>['here', \"'s\", 'a', 'list', 'of', 'my', 'intrusive', 'thoughts']</td>\n",
       "      <td>['jump', 'in', 'front', 'of', 'a', 'car', 'run', 'people', 'over', 'go', 'knife', 'happy', 'throw', 'water', 'over', 'electrics', 'shout', 'racial', 'abuse', 'shoot', 'a', 'school', 'up', 'why', 'is', 'my', 'brain', 'doing', 'this', 'to', 'me', '!!!!!', '😢😢😢😢']</td>\n",
       "      <td>0.0000</td>\n",
       "      <td>-0.6209</td>\n",
       "      <td>-0.6209</td>\n",
       "      <td>here's a list of my  thoughts jump in front of a car run people over go knife happy throw water over electrics shout racial abuse  shoot  a school up  why is my brain doing this to me!!!!! 😢😢😢😢</td>\n",
       "    </tr>\n",
       "    <tr>\n",
       "      <th>2</th>\n",
       "      <td>0</td>\n",
       "      <td>intrusivethoughts</td>\n",
       "      <td>1656464538</td>\n",
       "      <td>step on your cat</td>\n",
       "      <td>i love her so much but....she's just lying there, in the way ... could i crush her scull?</td>\n",
       "      <td>1.0</td>\n",
       "      <td>['step', 'on', 'your', 'cat']</td>\n",
       "      <td>['i', 'love', 'her', 'so', 'much', 'but', \"....she's\", 'just', 'lying', 'there', ',', 'in', 'the', 'way', '...', 'could', 'i', 'crush', 'her', 'scull', '?']</td>\n",
       "      <td>['step', 'on', 'your', 'cat']</td>\n",
       "      <td>['i', 'love', 'her', 'so', 'much', 'but', \"....she's\", 'just', 'lying', 'there', ',', 'in', 'the', 'way', '...', 'could', 'i', 'crush', 'her', 'scull', '?']</td>\n",
       "      <td>0.0000</td>\n",
       "      <td>0.0516</td>\n",
       "      <td>0.0516</td>\n",
       "      <td>step on your cat i love her so much but....she's just lying there, in the way ... could i crush her scull?</td>\n",
       "    </tr>\n",
       "    <tr>\n",
       "      <th>3</th>\n",
       "      <td>0</td>\n",
       "      <td>intrusivethoughts</td>\n",
       "      <td>1656459837</td>\n",
       "      <td>intrusive thoughts</td>\n",
       "      <td>are paranoid intrusive thoughts a thing??</td>\n",
       "      <td>1.0</td>\n",
       "      <td>['intrusive', 'thoughts']</td>\n",
       "      <td>['are', 'paranoid', 'intrusive', 'thoughts', 'a', 'thing', '??']</td>\n",
       "      <td>['intrusive', 'thoughts']</td>\n",
       "      <td>['are', 'paranoid', 'intrusive', 'thoughts', 'a', 'thing', '??']</td>\n",
       "      <td>0.0000</td>\n",
       "      <td>-0.3313</td>\n",
       "      <td>-0.3313</td>\n",
       "      <td>thoughts are paranoid  thoughts a thing??</td>\n",
       "    </tr>\n",
       "    <tr>\n",
       "      <th>4</th>\n",
       "      <td>0</td>\n",
       "      <td>intrusivethoughts</td>\n",
       "      <td>1656458075</td>\n",
       "      <td>bash your head against the painting and cut your eyes out with the glass</td>\n",
       "      <td>aaaaaaaaaaaaaaaaaaaaaaaaaaaaaaaaaaaaaaaaaaaaaaaaaaaaaaaaahhhhh  do it now! do it right fucking now  aaaaaaaaaaaaaaaaaaaaaaaaaaaaaaaaaaaaaaaaaaaaaaaaaaaaaaaaahhhhh</td>\n",
       "      <td>1.0</td>\n",
       "      <td>['bash', 'your', 'head', 'against', 'the', 'painting', 'and', 'cut', 'your', 'eyes', 'out', 'with', 'the', 'glass']</td>\n",
       "      <td>['aaaaaaaaaaaaaaaaaaaaaaaaaaaaaaaaaaaaaaaaaaaaaaaaaaaaaaaaahhhhh', 'do', 'it', 'now', '!', 'do', 'it', 'right', 'fucking', 'now', 'aaaaaaaaaaaaaaaaaaaaaaaaaaaaaaaaaaaaaaaaaaaaaaaaaaaaaaaaahhhhh']</td>\n",
       "      <td>['bash', 'your', 'head', 'against', 'the', 'painting', 'and', 'cut', 'your', 'eyes', 'out', 'with', 'the', 'glass']</td>\n",
       "      <td>['aaaaaaaaaaaaaaaaaaaaaaaaaaaaaaaaaaaaaaaaaaaaaaaaaaaaaaaaahhhhh', 'do', 'it', 'now', '!', 'do', 'it', 'right', 'fucking', 'now', 'aaaaaaaaaaaaaaaaaaaaaaaaaaaaaaaaaaaaaaaaaaaaaaaaaaaaaaaaahhhhh']</td>\n",
       "      <td>-0.2732</td>\n",
       "      <td>0.0000</td>\n",
       "      <td>-0.2732</td>\n",
       "      <td>bash your head against the painting and cut your eyes out with the glass aaaaaaaaaaaaaaaaaaaaaaaaaaaaaaaaaaaaaaaaaaaaaaaaaaaaaaaaahhhhh  do it now! do it right fucking now  aaaaaaaaaaaaaaaaaaaaaaaaaaaaaaaaaaaaaaaaaaaaaaaaaaaaaaaaahhhhh</td>\n",
       "    </tr>\n",
       "  </tbody>\n",
       "</table>\n",
       "</div>"
      ],
      "text/plain": [
       "   is_shower          subreddit  created_utc  \\\n",
       "0          0  intrusivethoughts   1656469973   \n",
       "1          0  intrusivethoughts   1656468826   \n",
       "2          0  intrusivethoughts   1656464538   \n",
       "3          0  intrusivethoughts   1656459837   \n",
       "4          0  intrusivethoughts   1656458075   \n",
       "\n",
       "                                                                      title  \\\n",
       "0   i am extremely scared my left eye is moving slowly downwards on my face   \n",
       "1                                    here's a list of my intrusive thoughts   \n",
       "2                                                          step on your cat   \n",
       "3                                                        intrusive thoughts   \n",
       "4  bash your head against the painting and cut your eyes out with the glass   \n",
       "\n",
       "                                                                                                                                                              selftext  \\\n",
       "0                                                                                                                                                             redacted   \n",
       "1  jump in front of a car run people over go knife happy throw water over electrics shout racial abuse  shoot  a school up  why is my brain doing this to me!!!!! 😢😢😢😢   \n",
       "2                                                                            i love her so much but....she's just lying there, in the way ... could i crush her scull?   \n",
       "3                                                                                                                            are paranoid intrusive thoughts a thing??   \n",
       "4   aaaaaaaaaaaaaaaaaaaaaaaaaaaaaaaaaaaaaaaaaaaaaaaaaaaaaaaaahhhhh  do it now! do it right fucking now  aaaaaaaaaaaaaaaaaaaaaaaaaaaaaaaaaaaaaaaaaaaaaaaaaaaaaaaaahhhhh   \n",
       "\n",
       "   upvote_ratio  \\\n",
       "0           1.0   \n",
       "1           1.0   \n",
       "2           1.0   \n",
       "3           1.0   \n",
       "4           1.0   \n",
       "\n",
       "                                                                                                           title_token  \\\n",
       "0   ['i', 'am', 'extremely', 'scared', 'my', 'left', 'eye', 'is', 'moving', 'slowly', 'downwards', 'on', 'my', 'face']   \n",
       "1                                                     ['here', \"'s\", 'a', 'list', 'of', 'my', 'intrusive', 'thoughts']   \n",
       "2                                                                                        ['step', 'on', 'your', 'cat']   \n",
       "3                                                                                            ['intrusive', 'thoughts']   \n",
       "4  ['bash', 'your', 'head', 'against', 'the', 'painting', 'and', 'cut', 'your', 'eyes', 'out', 'with', 'the', 'glass']   \n",
       "\n",
       "                                                                                                                                                                                                                                                          selftext_token  \\\n",
       "0                                                                                                                                                                                                                                                           ['redacted']   \n",
       "1  ['jump', 'in', 'front', 'of', 'a', 'car', 'run', 'people', 'over', 'go', 'knife', 'happy', 'throw', 'water', 'over', 'electrics', 'shout', 'racial', 'abuse', 'shoot', 'a', 'school', 'up', 'why', 'is', 'my', 'brain', 'doing', 'this', 'to', 'me', '!!!!!', '😢😢😢😢']   \n",
       "2                                                                                                           ['i', 'love', 'her', 'so', 'much', 'but', \"....she's\", 'just', 'lying', 'there', ',', 'in', 'the', 'way', '...', 'could', 'i', 'crush', 'her', 'scull', '?']   \n",
       "3                                                                                                                                                                                                       ['are', 'paranoid', 'intrusive', 'thoughts', 'a', 'thing', '??']   \n",
       "4                                                                    ['aaaaaaaaaaaaaaaaaaaaaaaaaaaaaaaaaaaaaaaaaaaaaaaaaaaaaaaaahhhhh', 'do', 'it', 'now', '!', 'do', 'it', 'right', 'fucking', 'now', 'aaaaaaaaaaaaaaaaaaaaaaaaaaaaaaaaaaaaaaaaaaaaaaaaaaaaaaaaahhhhh']   \n",
       "\n",
       "                                                                                                         title_no_stop  \\\n",
       "0   ['i', 'am', 'extremely', 'scared', 'my', 'left', 'eye', 'is', 'moving', 'slowly', 'downwards', 'on', 'my', 'face']   \n",
       "1                                                     ['here', \"'s\", 'a', 'list', 'of', 'my', 'intrusive', 'thoughts']   \n",
       "2                                                                                        ['step', 'on', 'your', 'cat']   \n",
       "3                                                                                            ['intrusive', 'thoughts']   \n",
       "4  ['bash', 'your', 'head', 'against', 'the', 'painting', 'and', 'cut', 'your', 'eyes', 'out', 'with', 'the', 'glass']   \n",
       "\n",
       "                                                                                                                                                                                                                                                        selftext_no_stop  \\\n",
       "0                                                                                                                                                                                                                                                           ['redacted']   \n",
       "1  ['jump', 'in', 'front', 'of', 'a', 'car', 'run', 'people', 'over', 'go', 'knife', 'happy', 'throw', 'water', 'over', 'electrics', 'shout', 'racial', 'abuse', 'shoot', 'a', 'school', 'up', 'why', 'is', 'my', 'brain', 'doing', 'this', 'to', 'me', '!!!!!', '😢😢😢😢']   \n",
       "2                                                                                                           ['i', 'love', 'her', 'so', 'much', 'but', \"....she's\", 'just', 'lying', 'there', ',', 'in', 'the', 'way', '...', 'could', 'i', 'crush', 'her', 'scull', '?']   \n",
       "3                                                                                                                                                                                                       ['are', 'paranoid', 'intrusive', 'thoughts', 'a', 'thing', '??']   \n",
       "4                                                                    ['aaaaaaaaaaaaaaaaaaaaaaaaaaaaaaaaaaaaaaaaaaaaaaaaaaaaaaaaahhhhh', 'do', 'it', 'now', '!', 'do', 'it', 'right', 'fucking', 'now', 'aaaaaaaaaaaaaaaaaaaaaaaaaaaaaaaaaaaaaaaaaaaaaaaaaaaaaaaaahhhhh']   \n",
       "\n",
       "   title_sent  selftext_sent  overall_sent  \\\n",
       "0     -0.4927         0.0000       -0.4927   \n",
       "1      0.0000        -0.6209       -0.6209   \n",
       "2      0.0000         0.0516        0.0516   \n",
       "3      0.0000        -0.3313       -0.3313   \n",
       "4     -0.2732         0.0000       -0.2732   \n",
       "\n",
       "                                                                                                                                                                                                                                    title_self  \n",
       "0                                                                                                                                                                      i am extremely scared my left eye is moving slowly downwards on my face  \n",
       "1                                            here's a list of my  thoughts jump in front of a car run people over go knife happy throw water over electrics shout racial abuse  shoot  a school up  why is my brain doing this to me!!!!! 😢😢😢😢  \n",
       "2                                                                                                                                   step on your cat i love her so much but....she's just lying there, in the way ... could i crush her scull?  \n",
       "3                                                                                                                                                                                                    thoughts are paranoid  thoughts a thing??  \n",
       "4  bash your head against the painting and cut your eyes out with the glass aaaaaaaaaaaaaaaaaaaaaaaaaaaaaaaaaaaaaaaaaaaaaaaaaaaaaaaaahhhhh  do it now! do it right fucking now  aaaaaaaaaaaaaaaaaaaaaaaaaaaaaaaaaaaaaaaaaaaaaaaaaaaaaaaaahhhhh  "
      ]
     },
     "execution_count": 5,
     "metadata": {},
     "output_type": "execute_result"
    }
   ],
   "source": [
    "df.head()"
   ]
  },
  {
   "cell_type": "markdown",
   "id": "36ed1d49-8abb-458e-8496-0efb86e39560",
   "metadata": {
    "tags": []
   },
   "source": [
    "# 5.1 Models\n",
    "-----\n",
    "## Adapted from 5.06"
   ]
  },
  {
   "cell_type": "code",
   "execution_count": 6,
   "id": "f944c963-b362-4bb8-8f7e-e7ab0c41922d",
   "metadata": {},
   "outputs": [],
   "source": [
    "# Adapted from Lesson 5.06\n",
    "# Define X and y\n",
    "X = df['title_self']\n",
    "y = df['is_shower']\n",
    "\n",
    "# Train test split\n",
    "X_train, X_test, y_train, y_test = train_test_split(X, y, random_state = 42, stratify = y)"
   ]
  },
  {
   "cell_type": "code",
   "execution_count": 7,
   "id": "b5c4afff-3cee-43d6-b110-b42ff28a841a",
   "metadata": {},
   "outputs": [
    {
     "data": {
      "text/plain": [
       "0    0.500501\n",
       "1    0.499499\n",
       "Name: is_shower, dtype: float64"
      ]
     },
     "execution_count": 7,
     "metadata": {},
     "output_type": "execute_result"
    }
   ],
   "source": [
    "# Baseline?\n",
    "y.value_counts(normalize = True)"
   ]
  },
  {
   "cell_type": "markdown",
   "id": "9d48c492-e801-4bfc-a91f-0b267b89281f",
   "metadata": {
    "tags": []
   },
   "source": [
    "## 5.1.1 CountVectorizer and Multinomial Naive Bayes"
   ]
  },
  {
   "cell_type": "code",
   "execution_count": 8,
   "id": "538b4504-944a-4d76-a799-98ac6bf54c1b",
   "metadata": {},
   "outputs": [],
   "source": [
    "# Pipeline\n",
    "pipe_cnb = Pipeline([\n",
    "    ('cvec', CountVectorizer()),\n",
    "    ('nb', MultinomialNB())])"
   ]
  },
  {
   "cell_type": "code",
   "execution_count": 9,
   "id": "42f71882-3a4c-4c84-b67f-84d2f1d29670",
   "metadata": {},
   "outputs": [
    {
     "data": {
      "text/plain": [
       "Pipeline(steps=[('cvec', CountVectorizer()), ('nb', MultinomialNB())])"
      ]
     },
     "execution_count": 9,
     "metadata": {},
     "output_type": "execute_result"
    }
   ],
   "source": [
    "# fit\n",
    "pipe_cnb.fit(X_train, y_train)"
   ]
  },
  {
   "cell_type": "code",
   "execution_count": 10,
   "id": "fd443a4d-4b6a-4cd7-a4ee-ac582ce079fd",
   "metadata": {},
   "outputs": [],
   "source": [
    "# Make predictions\n",
    "preds_cnb = pipe_cnb.predict(X_test)"
   ]
  },
  {
   "cell_type": "code",
   "execution_count": 11,
   "id": "bbaf3530-79c8-48b6-8f8b-c15641877108",
   "metadata": {},
   "outputs": [
    {
     "name": "stdout",
     "output_type": "stream",
     "text": [
      "CVEC & NB Train: 0.9332591768631813\n",
      "CVEC & NB Test: 0.9152768512341561\n"
     ]
    }
   ],
   "source": [
    "# scores\n",
    "print(f'CVEC & NB Train: {pipe_cnb.score(X_train, y_train)}')\n",
    "print(f'CVEC & NB Test: {pipe_cnb.score(X_test, y_test)}')"
   ]
  },
  {
   "cell_type": "code",
   "execution_count": 12,
   "id": "a00a4951-5518-4e55-b24e-2e9f1339be78",
   "metadata": {},
   "outputs": [
    {
     "name": "stdout",
     "output_type": "stream",
     "text": [
      "              precision    recall  f1-score   support\n",
      "\n",
      "           0       0.91      0.92      0.92       750\n",
      "           1       0.92      0.91      0.92       749\n",
      "\n",
      "    accuracy                           0.92      1499\n",
      "   macro avg       0.92      0.92      0.92      1499\n",
      "weighted avg       0.92      0.92      0.92      1499\n",
      "\n"
     ]
    },
    {
     "data": {
      "image/png": "[encoded data removed]",
      "text/plain": [
       "<Figure size 432x288 with 2 Axes>"
      ]
     },
     "metadata": {
      "needs_background": "light"
     },
     "output_type": "display_data"
    }
   ],
   "source": [
    "# Classification report\n",
    "print(classification_report(y_test, preds_cnb))\n",
    "\n",
    "# Confusion matrix\n",
    "plot_confusion_matrix(pipe_cnb, X_test, y_test, cmap = 'Blues');"
   ]
  },
  {
   "cell_type": "markdown",
   "id": "b26b7d90-2a93-454e-9c28-71f8a0bcd035",
   "metadata": {},
   "source": [
    "### With GridSearch"
   ]
  },
  {
   "cell_type": "code",
   "execution_count": 13,
   "id": "2e74f399-f4b3-458d-b113-2efa8b15972f",
   "metadata": {},
   "outputs": [
    {
     "data": {
      "text/plain": [
       "GridSearchCV(estimator=Pipeline(steps=[('cvec', CountVectorizer()),\n",
       "                                       ('nb', MultinomialNB())]),\n",
       "             param_grid={'cvec__ngram_range': [(1, 1), (2, 2)],\n",
       "                         'cvec__stop_words': [None, 'english']})"
      ]
     },
     "execution_count": 13,
     "metadata": {},
     "output_type": "execute_result"
    }
   ],
   "source": [
    "# Pipeline\n",
    "pipe_cnb = Pipeline([\n",
    "    ('cvec', CountVectorizer()),\n",
    "    ('nb', MultinomialNB())])\n",
    "\n",
    "# Parameters\n",
    "params_cnb = {\n",
    "    'cvec__ngram_range': [(1, 1), (2, 2)],\n",
    "    'cvec__stop_words': [None, 'english'],\n",
    "    \n",
    "}\n",
    "\n",
    "#GridSearch\n",
    "gs_cnb = GridSearchCV(pipe_cnb, params_cnb)\n",
    "gs_cnb.fit(X_train, y_train)"
   ]
  },
  {
   "cell_type": "code",
   "execution_count": 14,
   "id": "7de1e8cd-e236-48d8-9046-e5f9b2a90a39",
   "metadata": {},
   "outputs": [
    {
     "name": "stdout",
     "output_type": "stream",
     "text": [
      "CNB Train Score: 0.9828698553948833\n",
      "CNB Test Score: 0.9659773182121414\n",
      "CNB Best Params: {'cvec__ngram_range': (2, 2), 'cvec__stop_words': None}\n"
     ]
    }
   ],
   "source": [
    "# Scores and Best Params\n",
    "print(f'CNB Train Score: {gs_cnb.score(X_train, y_train)}')\n",
    "print(f'CNB Test Score: {gs_cnb.score(X_test, y_test)}')\n",
    "print(f'CNB Best Params: {gs_cnb.best_params_}')"
   ]
  },
  {
   "cell_type": "code",
   "execution_count": 15,
   "id": "753c6570-22de-4207-8d07-89e5069dd87d",
   "metadata": {},
   "outputs": [],
   "source": [
    "# Make predictions\n",
    "preds_cnb_gs = gs_cnb.predict(X_test)"
   ]
  },
  {
   "cell_type": "code",
   "execution_count": 16,
   "id": "e9866aff-219a-4994-b1a3-4207c2f3a241",
   "metadata": {},
   "outputs": [
    {
     "name": "stdout",
     "output_type": "stream",
     "text": [
      "              precision    recall  f1-score   support\n",
      "\n",
      "           0       0.96      0.97      0.97       750\n",
      "           1       0.97      0.96      0.97       749\n",
      "\n",
      "    accuracy                           0.97      1499\n",
      "   macro avg       0.97      0.97      0.97      1499\n",
      "weighted avg       0.97      0.97      0.97      1499\n",
      "\n"
     ]
    },
    {
     "data": {
      "image/png": "[encoded data removed]",
      "text/plain": [
       "<Figure size 432x288 with 2 Axes>"
      ]
     },
     "metadata": {
      "needs_background": "light"
     },
     "output_type": "display_data"
    }
   ],
   "source": [
    "# Classification report\n",
    "print(classification_report(y_test, preds_cnb_gs))\n",
    "\n",
    "# Confusion matrix\n",
    "plot_confusion_matrix(gs_cnb, X_test, y_test, cmap = 'bone');"
   ]
  },
  {
   "cell_type": "markdown",
   "id": "7141e6d9-7ef2-4c93-af34-03e593cbf66a",
   "metadata": {
    "jp-MarkdownHeadingCollapsed": true,
    "tags": []
   },
   "source": [
    "## 5.1.2 CountVectorizer and Logistic Regression"
   ]
  },
  {
   "cell_type": "code",
   "execution_count": 17,
   "id": "f8b64582-2ec0-49a1-b675-552c15eea35b",
   "metadata": {},
   "outputs": [],
   "source": [
    "# Pipeline\n",
    "pipe_clog = Pipeline([\n",
    "    ('cvec', CountVectorizer()), \n",
    "    ('log', LogisticRegression())])"
   ]
  },
  {
   "cell_type": "code",
   "execution_count": 18,
   "id": "68d5908d-4547-4989-9698-51b85d0b02f4",
   "metadata": {},
   "outputs": [
    {
     "data": {
      "text/plain": [
       "Pipeline(steps=[('cvec', CountVectorizer()), ('log', LogisticRegression())])"
      ]
     },
     "execution_count": 18,
     "metadata": {},
     "output_type": "execute_result"
    }
   ],
   "source": [
    "# fit\n",
    "pipe_clog.fit(X_train, y_train)"
   ]
  },
  {
   "cell_type": "code",
   "execution_count": 19,
   "id": "847a28ec-086d-45b8-9f08-89c6b1b16a80",
   "metadata": {},
   "outputs": [
    {
     "name": "stdout",
     "output_type": "stream",
     "text": [
      "CVEC & Log Train: 0.9911012235817576\n",
      "CVEC & Log Test: 0.9372915276851234\n"
     ]
    }
   ],
   "source": [
    "# scores\n",
    "print(f'CVEC & Log Train: {pipe_clog.score(X_train, y_train)}')\n",
    "print(f'CVEC & Log Test: {pipe_clog.score(X_test, y_test)}')"
   ]
  },
  {
   "cell_type": "code",
   "execution_count": 20,
   "id": "383d65e5-51b7-47cb-b72b-0c1760f9cca9",
   "metadata": {},
   "outputs": [],
   "source": [
    "# Make predictions\n",
    "preds_clog = pipe_clog.predict(X_test)"
   ]
  },
  {
   "cell_type": "code",
   "execution_count": 21,
   "id": "5595ab01-76f8-486d-9904-d9847126d23e",
   "metadata": {},
   "outputs": [
    {
     "name": "stdout",
     "output_type": "stream",
     "text": [
      "              precision    recall  f1-score   support\n",
      "\n",
      "           0       0.98      0.90      0.93       750\n",
      "           1       0.90      0.98      0.94       749\n",
      "\n",
      "    accuracy                           0.94      1499\n",
      "   macro avg       0.94      0.94      0.94      1499\n",
      "weighted avg       0.94      0.94      0.94      1499\n",
      "\n"
     ]
    },
    {
     "data": {
      "image/png": "[encoded data removed]",
      "text/plain": [
       "<Figure size 432x288 with 2 Axes>"
      ]
     },
     "metadata": {
      "needs_background": "light"
     },
     "output_type": "display_data"
    }
   ],
   "source": [
    "# Classification report\n",
    "print(classification_report(y_test, preds_clog))\n",
    "\n",
    "# Confusion matrix\n",
    "plot_confusion_matrix(pipe_clog, X_test, y_test, cmap = 'Blues');"
   ]
  },
  {
   "cell_type": "markdown",
   "id": "9d47dd33-4dee-46ba-9daa-a5d34c5fa688",
   "metadata": {},
   "source": [
    "### With GridSearch"
   ]
  },
  {
   "cell_type": "code",
   "execution_count": 22,
   "id": "625c1115-bcee-4059-9717-224499d961cc",
   "metadata": {},
   "outputs": [
    {
     "data": {
      "text/plain": [
       "GridSearchCV(estimator=Pipeline(steps=[('cvec', CountVectorizer()),\n",
       "                                       ('log', LogisticRegression())]),\n",
       "             param_grid={'cvec__ngram_range': [(1, 1), (2, 2)],\n",
       "                         'cvec__stop_words': [None, 'english']})"
      ]
     },
     "execution_count": 22,
     "metadata": {},
     "output_type": "execute_result"
    }
   ],
   "source": [
    "# Pipeline\n",
    "pipe_clog = Pipeline([\n",
    "    ('cvec', CountVectorizer()), \n",
    "    ('log', LogisticRegression())])\n",
    "\n",
    "# Parameters\n",
    "params_clog = {\n",
    "    'cvec__ngram_range': [(1, 1), (2, 2)],\n",
    "    'cvec__stop_words': [None, 'english'],\n",
    "    \n",
    "}\n",
    "\n",
    "#GridSearch\n",
    "gs_clog = GridSearchCV(pipe_clog, params_clog)\n",
    "gs_clog.fit(X_train, y_train)"
   ]
  },
  {
   "cell_type": "code",
   "execution_count": 23,
   "id": "221c6728-daea-4af1-a05a-a61a5c632532",
   "metadata": {},
   "outputs": [
    {
     "name": "stdout",
     "output_type": "stream",
     "text": [
      "CLog Train Score: 0.9919911012235818\n",
      "CLog Test Score: 0.9606404269513009\n",
      "CLog Best Params: {'cvec__ngram_range': (2, 2), 'cvec__stop_words': 'english'}\n"
     ]
    }
   ],
   "source": [
    "# Scores and Best Params\n",
    "print(f'CLog Train Score: {gs_clog.score(X_train, y_train)}')\n",
    "print(f'CLog Test Score: {gs_clog.score(X_test, y_test)}')\n",
    "print(f'CLog Best Params: {gs_clog.best_params_}')"
   ]
  },
  {
   "cell_type": "code",
   "execution_count": 24,
   "id": "25249dd4-e672-4dae-8a90-c87e107348d8",
   "metadata": {},
   "outputs": [],
   "source": [
    "# Make predictions\n",
    "preds_clog_gs = gs_clog.predict(X_test)"
   ]
  },
  {
   "cell_type": "code",
   "execution_count": 25,
   "id": "1f1b544a-4e25-4908-95df-6807b75676f5",
   "metadata": {},
   "outputs": [
    {
     "name": "stdout",
     "output_type": "stream",
     "text": [
      "              precision    recall  f1-score   support\n",
      "\n",
      "           0       0.95      0.97      0.96       750\n",
      "           1       0.97      0.95      0.96       749\n",
      "\n",
      "    accuracy                           0.96      1499\n",
      "   macro avg       0.96      0.96      0.96      1499\n",
      "weighted avg       0.96      0.96      0.96      1499\n",
      "\n"
     ]
    },
    {
     "data": {
      "image/png": "[encoded data removed]",
      "text/plain": [
       "<Figure size 432x288 with 2 Axes>"
      ]
     },
     "metadata": {
      "needs_background": "light"
     },
     "output_type": "display_data"
    }
   ],
   "source": [
    "# Classification report\n",
    "print(classification_report(y_test, preds_clog_gs))\n",
    "\n",
    "# Confusion matrix\n",
    "plot_confusion_matrix(gs_clog, X_test, y_test, cmap = 'bone');"
   ]
  },
  {
   "cell_type": "markdown",
   "id": "3d5757c6-8031-41ef-b6cc-8ac8bcb88a03",
   "metadata": {
    "jp-MarkdownHeadingCollapsed": true,
    "tags": []
   },
   "source": [
    "## 5.1.3 TFIDF and Multinomial Naive Bayes"
   ]
  },
  {
   "cell_type": "code",
   "execution_count": 26,
   "id": "8efa1253-234f-40f2-99e8-c9d621b6b3ca",
   "metadata": {},
   "outputs": [],
   "source": [
    "# Pipeline\n",
    "pipe_tnb = Pipeline([\n",
    "    ('tvec', TfidfVectorizer()), \n",
    "    ('nb', MultinomialNB())])"
   ]
  },
  {
   "cell_type": "code",
   "execution_count": 27,
   "id": "255e277c-e814-4c0c-a0df-5018f0a17a66",
   "metadata": {},
   "outputs": [
    {
     "data": {
      "text/plain": [
       "Pipeline(steps=[('tvec', TfidfVectorizer()), ('nb', MultinomialNB())])"
      ]
     },
     "execution_count": 27,
     "metadata": {},
     "output_type": "execute_result"
    }
   ],
   "source": [
    "# Fit\n",
    "pipe_tnb.fit(X_train, y_train)"
   ]
  },
  {
   "cell_type": "code",
   "execution_count": 28,
   "id": "c351894b-324f-400f-9fbe-4026a4287be9",
   "metadata": {},
   "outputs": [
    {
     "name": "stdout",
     "output_type": "stream",
     "text": [
      "TVEC & NB Train: 0.9626251390433815\n",
      "TVEC & NB Test: 0.9266177451634423\n"
     ]
    }
   ],
   "source": [
    "# Scores\n",
    "print(f'TVEC & NB Train: {pipe_tnb.score(X_train, y_train)}')\n",
    "print(f'TVEC & NB Test: {pipe_tnb.score(X_test, y_test)}')"
   ]
  },
  {
   "cell_type": "code",
   "execution_count": 29,
   "id": "0c37c65d-07ac-42f2-9bfe-7529faa225e2",
   "metadata": {},
   "outputs": [],
   "source": [
    "# Make predictions\n",
    "preds_tnb = pipe_tnb.predict(X_test)"
   ]
  },
  {
   "cell_type": "code",
   "execution_count": 30,
   "id": "87a0b842-a7fc-4071-aa9b-ae760ea3712e",
   "metadata": {},
   "outputs": [
    {
     "name": "stdout",
     "output_type": "stream",
     "text": [
      "              precision    recall  f1-score   support\n",
      "\n",
      "           0       0.91      0.95      0.93       750\n",
      "           1       0.95      0.90      0.92       749\n",
      "\n",
      "    accuracy                           0.93      1499\n",
      "   macro avg       0.93      0.93      0.93      1499\n",
      "weighted avg       0.93      0.93      0.93      1499\n",
      "\n"
     ]
    },
    {
     "data": {
      "image/png": "[encoded data removed]",
      "text/plain": [
       "<Figure size 432x288 with 2 Axes>"
      ]
     },
     "metadata": {
      "needs_background": "light"
     },
     "output_type": "display_data"
    }
   ],
   "source": [
    "# Classification report\n",
    "print(classification_report(y_test, preds_tnb))\n",
    "\n",
    "# Confusion matrix\n",
    "plot_confusion_matrix(pipe_tnb, X_test, y_test, cmap = 'Greens');"
   ]
  },
  {
   "cell_type": "markdown",
   "id": "c05facb3-ea90-4a85-a4a7-17bce10c3703",
   "metadata": {
    "tags": []
   },
   "source": [
    "### With GridSearch"
   ]
  },
  {
   "cell_type": "code",
   "execution_count": 31,
   "id": "27c0729e-5a1d-4145-ab9c-a023c01d14d7",
   "metadata": {},
   "outputs": [
    {
     "data": {
      "text/plain": [
       "GridSearchCV(estimator=Pipeline(steps=[('tvec', TfidfVectorizer()),\n",
       "                                       ('nb', MultinomialNB())]),\n",
       "             param_grid={'tvec__ngram_range': [(1, 1), (2, 2)],\n",
       "                         'tvec__stop_words': [None, 'english']})"
      ]
     },
     "execution_count": 31,
     "metadata": {},
     "output_type": "execute_result"
    }
   ],
   "source": [
    "# Pipeline\n",
    "pipe_tnb = Pipeline([\n",
    "    ('tvec', TfidfVectorizer()), \n",
    "    ('nb', MultinomialNB())])\n",
    "\n",
    "# Parameters\n",
    "params_tnb = {\n",
    "    'tvec__ngram_range': [(1, 1), (2, 2)],\n",
    "    'tvec__stop_words': [None, 'english'],\n",
    "    \n",
    "}\n",
    "\n",
    "#GridSearch\n",
    "gs_tnb = GridSearchCV(pipe_tnb, params_tnb)\n",
    "gs_tnb.fit(X_train, y_train)"
   ]
  },
  {
   "cell_type": "code",
   "execution_count": 32,
   "id": "fe17a1ab-8a92-4e20-b1f4-24e2acbc9f50",
   "metadata": {},
   "outputs": [
    {
     "name": "stdout",
     "output_type": "stream",
     "text": [
      "TNB Train Score: 0.993103448275862\n",
      "TNB Test Score: 0.9653102068045364\n",
      "TNB Best Params: {'tvec__ngram_range': (2, 2), 'tvec__stop_words': None}\n"
     ]
    }
   ],
   "source": [
    "# Scores and Best Params\n",
    "print(f'TNB Train Score: {gs_tnb.score(X_train, y_train)}')\n",
    "print(f'TNB Test Score: {gs_tnb.score(X_test, y_test)}')\n",
    "print(f'TNB Best Params: {gs_tnb.best_params_}')"
   ]
  },
  {
   "cell_type": "code",
   "execution_count": 33,
   "id": "08888312-b48d-4a08-9907-1922248adc84",
   "metadata": {},
   "outputs": [],
   "source": [
    "# Make predictions\n",
    "preds_tnb_gs = gs_tnb.predict(X_test)"
   ]
  },
  {
   "cell_type": "code",
   "execution_count": 34,
   "id": "faddcee0-a13c-475c-8757-2946453bf306",
   "metadata": {},
   "outputs": [
    {
     "name": "stdout",
     "output_type": "stream",
     "text": [
      "              precision    recall  f1-score   support\n",
      "\n",
      "           0       0.97      0.96      0.97       750\n",
      "           1       0.96      0.97      0.97       749\n",
      "\n",
      "    accuracy                           0.97      1499\n",
      "   macro avg       0.97      0.97      0.97      1499\n",
      "weighted avg       0.97      0.97      0.97      1499\n",
      "\n"
     ]
    },
    {
     "data": {
      "image/png": "[encoded data removed]",
      "text/plain": [
       "<Figure size 432x288 with 2 Axes>"
      ]
     },
     "metadata": {
      "needs_background": "light"
     },
     "output_type": "display_data"
    }
   ],
   "source": [
    "# Classification report\n",
    "print(classification_report(y_test, preds_tnb_gs))\n",
    "\n",
    "# Confusion matrix\n",
    "plot_confusion_matrix(gs_tnb, X_test, y_test, cmap = 'ocean');"
   ]
  },
  {
   "cell_type": "markdown",
   "id": "2f7ee1b1-70a5-43c1-b555-67a778c0ad6a",
   "metadata": {
    "jp-MarkdownHeadingCollapsed": true,
    "tags": []
   },
   "source": [
    "## 5.1.4 TFIDF and Logistic Regression"
   ]
  },
  {
   "cell_type": "code",
   "execution_count": 35,
   "id": "0c2d3145-4bc6-4645-aee2-b1d412f487c9",
   "metadata": {},
   "outputs": [],
   "source": [
    "# Pipeline\n",
    "pipe_tlog = Pipeline([\n",
    "    ('tvec', TfidfVectorizer()), \n",
    "    ('log', LogisticRegression())])"
   ]
  },
  {
   "cell_type": "code",
   "execution_count": 36,
   "id": "de456fff-6fac-471d-a7e8-c4ce14ae1296",
   "metadata": {},
   "outputs": [
    {
     "data": {
      "text/plain": [
       "Pipeline(steps=[('tvec', TfidfVectorizer()), ('log', LogisticRegression())])"
      ]
     },
     "execution_count": 36,
     "metadata": {},
     "output_type": "execute_result"
    }
   ],
   "source": [
    "# Fit\n",
    "pipe_tlog.fit(X_train, y_train)"
   ]
  },
  {
   "cell_type": "code",
   "execution_count": 37,
   "id": "ca011cc3-4f6b-4cb9-9089-3d57dcc0ee90",
   "metadata": {},
   "outputs": [
    {
     "name": "stdout",
     "output_type": "stream",
     "text": [
      "TVEC & Log Train: 0.9503893214682981\n",
      "TVEC & Log Test: 0.9206137424949966\n"
     ]
    }
   ],
   "source": [
    "# Scores\n",
    "print(f'TVEC & Log Train: {pipe_tlog.score(X_train, y_train)}')\n",
    "print(f'TVEC & Log Test: {pipe_tlog.score(X_test, y_test)}')"
   ]
  },
  {
   "cell_type": "code",
   "execution_count": 38,
   "id": "16f772e5-c682-4292-8b50-6f6aa97eeeaa",
   "metadata": {},
   "outputs": [],
   "source": [
    "# Make predictions\n",
    "preds_tlog = pipe_tlog.predict(X_test)"
   ]
  },
  {
   "cell_type": "code",
   "execution_count": 39,
   "id": "a02e0634-18b8-4464-bc73-e6a4751ee73a",
   "metadata": {},
   "outputs": [
    {
     "name": "stdout",
     "output_type": "stream",
     "text": [
      "              precision    recall  f1-score   support\n",
      "\n",
      "           0       0.96      0.88      0.92       750\n",
      "           1       0.89      0.96      0.92       749\n",
      "\n",
      "    accuracy                           0.92      1499\n",
      "   macro avg       0.92      0.92      0.92      1499\n",
      "weighted avg       0.92      0.92      0.92      1499\n",
      "\n"
     ]
    },
    {
     "data": {
      "image/png": "[encoded data removed]",
      "text/plain": [
       "<Figure size 432x288 with 2 Axes>"
      ]
     },
     "metadata": {
      "needs_background": "light"
     },
     "output_type": "display_data"
    }
   ],
   "source": [
    "# Classification report\n",
    "print(classification_report(y_test, preds_tlog))\n",
    "\n",
    "# Confusion matrix\n",
    "plot_confusion_matrix(pipe_tlog, X_test, y_test, cmap = 'Greens');"
   ]
  },
  {
   "cell_type": "markdown",
   "id": "38b043b4-20d1-4c13-b382-6764e8061d80",
   "metadata": {},
   "source": [
    "### With GridSearch"
   ]
  },
  {
   "cell_type": "code",
   "execution_count": 40,
   "id": "9bdfdf63-f7e5-4b63-8e44-b1bd67940b01",
   "metadata": {},
   "outputs": [
    {
     "data": {
      "text/plain": [
       "GridSearchCV(estimator=Pipeline(steps=[('tvec', TfidfVectorizer()),\n",
       "                                       ('log', LogisticRegression())]),\n",
       "             param_grid={'tvec__ngram_range': [(1, 1), (2, 2)],\n",
       "                         'tvec__stop_words': [None, 'english']})"
      ]
     },
     "execution_count": 40,
     "metadata": {},
     "output_type": "execute_result"
    }
   ],
   "source": [
    "# Pipeline\n",
    "pipe_tlog = Pipeline([\n",
    "    ('tvec', TfidfVectorizer()), \n",
    "    ('log', LogisticRegression())])\n",
    "\n",
    "# Parameters\n",
    "params_tlog = {\n",
    "    'tvec__ngram_range': [(1, 1), (2, 2)],\n",
    "    'tvec__stop_words': [None, 'english'],\n",
    "    \n",
    "}\n",
    "\n",
    "#GridSearch\n",
    "gs_tlog = GridSearchCV(pipe_tlog, params_tlog)\n",
    "gs_tlog.fit(X_train, y_train)"
   ]
  },
  {
   "cell_type": "code",
   "execution_count": 41,
   "id": "150b6cd7-213e-4999-868e-f4cead865d18",
   "metadata": {},
   "outputs": [
    {
     "name": "stdout",
     "output_type": "stream",
     "text": [
      "TLog Train Score: 0.9913236929922136\n",
      "TLog Test Score: 0.9666444296197465\n",
      "TLog Best Params: {'tvec__ngram_range': (2, 2), 'tvec__stop_words': 'english'}\n"
     ]
    }
   ],
   "source": [
    "# Scores and Best Params\n",
    "print(f'TLog Train Score: {gs_tlog.score(X_train, y_train)}')\n",
    "print(f'TLog Test Score: {gs_tlog.score(X_test, y_test)}')\n",
    "print(f'TLog Best Params: {gs_tlog.best_params_}')"
   ]
  },
  {
   "cell_type": "code",
   "execution_count": 42,
   "id": "f3dec9fb-662e-4b0d-a844-95c20448f1d4",
   "metadata": {},
   "outputs": [],
   "source": [
    "# Make predictions\n",
    "preds_tlog_gs = gs_tlog.predict(X_test)"
   ]
  },
  {
   "cell_type": "code",
   "execution_count": 43,
   "id": "d4a27144-a04f-42b9-a840-9a9dede0320a",
   "metadata": {},
   "outputs": [
    {
     "name": "stdout",
     "output_type": "stream",
     "text": [
      "              precision    recall  f1-score   support\n",
      "\n",
      "           0       0.95      0.98      0.97       750\n",
      "           1       0.98      0.95      0.97       749\n",
      "\n",
      "    accuracy                           0.97      1499\n",
      "   macro avg       0.97      0.97      0.97      1499\n",
      "weighted avg       0.97      0.97      0.97      1499\n",
      "\n"
     ]
    },
    {
     "data": {
      "image/png": "[encoded data removed]",
      "text/plain": [
       "<Figure size 432x288 with 2 Axes>"
      ]
     },
     "metadata": {
      "needs_background": "light"
     },
     "output_type": "display_data"
    }
   ],
   "source": [
    "# Classification report\n",
    "print(classification_report(y_test, preds_tlog_gs))\n",
    "\n",
    "# Confusion matrix\n",
    "plot_confusion_matrix(gs_tlog, X_test, y_test, cmap = 'ocean');"
   ]
  },
  {
   "cell_type": "markdown",
   "id": "26cf2244-af7b-427e-ab24-23c99005735a",
   "metadata": {
    "jp-MarkdownHeadingCollapsed": true,
    "tags": []
   },
   "source": [
    "# 5.2 Model Comparisons\n",
    "-----"
   ]
  },
  {
   "cell_type": "code",
   "execution_count": 44,
   "id": "ff8e2597-b03d-402d-96b2-984ae71dbbb4",
   "metadata": {},
   "outputs": [
    {
     "name": "stdout",
     "output_type": "stream",
     "text": [
      "==========\n",
      "CountVectorizor & Multinomial Naive Bayes\n",
      "==========\n",
      "CNB Train Score: 0.9828698553948833\n",
      "CNB Test Score: 0.9659773182121414\n",
      "Train-Test Diff: 0.016892537182741862\n",
      "CNB Best Params: {'cvec__ngram_range': (2, 2), 'cvec__stop_words': None}\n",
      "==========\n",
      "CountVecotrizer and Logistic Regression\n",
      "==========\n",
      "CLog Train Score: 0.9919911012235818\n",
      "CLog Test Score: 0.9606404269513009\n",
      "Train-Test Diff: 0.03135067427228089\n",
      "CLog Best Params: {'cvec__ngram_range': (2, 2), 'cvec__stop_words': 'english'}\n",
      "==========\n",
      "TFIDF and Multinomial Naive Bayes\n",
      "==========\n",
      "TNB Train Score: 0.993103448275862\n",
      "TNB Test Score: 0.9653102068045364\n",
      "Train-Test Diff: 0.02779324147132567\n",
      "TNB Best Params: {'tvec__ngram_range': (2, 2), 'tvec__stop_words': None}\n",
      "==========\n",
      "TFIDF and Logistic Regression\n",
      "==========\n",
      "TLog Train Score: 0.9913236929922136\n",
      "TLog Test Score: 0.9666444296197465\n",
      "Train-Test Diff: 0.024679263372467064\n",
      "TLog Best Params: {'tvec__ngram_range': (2, 2), 'tvec__stop_words': 'english'}\n"
     ]
    }
   ],
   "source": [
    "print('==========\\nCountVectorizor & Multinomial Naive Bayes\\n==========')\n",
    "print(f'CNB Train Score: {gs_cnb.score(X_train, y_train)}')\n",
    "print(f'CNB Test Score: {gs_cnb.score(X_test, y_test)}')\n",
    "print(f'Train-Test Diff: {gs_cnb.score(X_train, y_train) - gs_cnb.score(X_test, y_test)}')\n",
    "print(f'CNB Best Params: {gs_cnb.best_params_}')\n",
    "print('==========\\nCountVecotrizer and Logistic Regression\\n==========')\n",
    "print(f'CLog Train Score: {gs_clog.score(X_train, y_train)}')\n",
    "print(f'CLog Test Score: {gs_clog.score(X_test, y_test)}')\n",
    "print(f'Train-Test Diff: {gs_clog.score(X_train, y_train) - gs_clog.score(X_test, y_test)}')\n",
    "print(f'CLog Best Params: {gs_clog.best_params_}')\n",
    "print('==========\\nTFIDF and Multinomial Naive Bayes\\n==========')\n",
    "print(f'TNB Train Score: {gs_tnb.score(X_train, y_train)}')\n",
    "print(f'TNB Test Score: {gs_tnb.score(X_test, y_test)}')\n",
    "print(f'Train-Test Diff: {gs_tnb.score(X_train, y_train) - gs_tnb.score(X_test, y_test)}')\n",
    "print(f'TNB Best Params: {gs_tnb.best_params_}')\n",
    "print('==========\\nTFIDF and Logistic Regression\\n==========')\n",
    "print(f'TLog Train Score: {gs_tlog.score(X_train, y_train)}')\n",
    "print(f'TLog Test Score: {gs_tlog.score(X_test, y_test)}')\n",
    "print(f'Train-Test Diff: {gs_tlog.score(X_train, y_train) - gs_tlog.score(X_test, y_test)}')\n",
    "print(f'TLog Best Params: {gs_tlog.best_params_}')"
   ]
  },
  {
   "cell_type": "markdown",
   "id": "25d4f23b-9e10-429d-9093-5b545bbc82ef",
   "metadata": {
    "tags": []
   },
   "source": [
    "# 5.3 Model Winner\n",
    "-----\n",
    "## CountVectorizer & Multinomial Naive Bayes"
   ]
  },
  {
   "cell_type": "code",
   "execution_count": 45,
   "id": "f98fe95e-7d7b-4ed7-aaaf-01301cec253d",
   "metadata": {},
   "outputs": [
    {
     "name": "stdout",
     "output_type": "stream",
     "text": [
      "CNB Train Score: 0.9828698553948833\n",
      "CNB Test Score: 0.9659773182121414\n",
      "Train-Test Diff: 0.016892537182741862\n",
      "CNB Best Params: {'cvec__ngram_range': (2, 2), 'cvec__stop_words': None}\n"
     ]
    }
   ],
   "source": [
    "print(f'CNB Train Score: {gs_cnb.score(X_train, y_train)}')\n",
    "print(f'CNB Test Score: {gs_cnb.score(X_test, y_test)}')\n",
    "print(f'Train-Test Diff: {gs_cnb.score(X_train, y_train) - gs_cnb.score(X_test, y_test)}')\n",
    "print(f'CNB Best Params: {gs_cnb.best_params_}')"
   ]
  },
  {
   "cell_type": "code",
   "execution_count": 47,
   "id": "10cf9e2f-c56a-4cd8-84b4-6e7bfd198440",
   "metadata": {},
   "outputs": [
    {
     "name": "stdout",
     "output_type": "stream",
     "text": [
      "              precision    recall  f1-score   support\n",
      "\n",
      "           0       0.96      0.97      0.97       750\n",
      "           1       0.97      0.96      0.97       749\n",
      "\n",
      "    accuracy                           0.97      1499\n",
      "   macro avg       0.97      0.97      0.97      1499\n",
      "weighted avg       0.97      0.97      0.97      1499\n",
      "\n"
     ]
    },
    {
     "data": {
      "image/png": "[encoded data removed]",
      "text/plain": [
       "<Figure size 432x288 with 2 Axes>"
      ]
     },
     "metadata": {
      "needs_background": "light"
     },
     "output_type": "display_data"
    }
   ],
   "source": [
    "# Classification report\n",
    "print(classification_report(y_test, preds_cnb_gs))\n",
    "\n",
    "# Confusion matrix\n",
    "plot_confusion_matrix(gs_cnb, X_test, y_test, cmap = 'bone')\n",
    "\n",
    "plt.title('CountVectorizer & Multinomial Naive Bayes | ngram_range = (2,2)\\n0 = Intrusive Thoughts | 1 = Shower Thoughts', pad = 25);\n",
    "\n",
    "plt.savefig('../images/gs_cnb_confusion_matrix.png', dpi = 200, bbox_inches='tight')\n",
    "plt.savefig('../images/gs_cnb_confusion_matrix.jpeg', dpi = 200, bbox_inches='tight')"
   ]
  },
  {
   "cell_type": "code",
   "execution_count": 61,
   "id": "b605bc04-3e3b-466e-ad2b-5f699fbe8690",
   "metadata": {},
   "outputs": [],
   "source": [
    "train_df = pd.DataFrame(X)\n",
    "train_df['is_st'] = y\n",
    "train_df['preds'] = gs_cnb.predict(X)"
   ]
  },
  {
   "cell_type": "code",
   "execution_count": 63,
   "id": "253dd46d-797f-4286-a926-7f0790238539",
   "metadata": {},
   "outputs": [],
   "source": [
    "train_df.to_csv('../data/train_preds.csv', index = False)"
   ]
  },
  {
   "cell_type": "code",
   "execution_count": 64,
   "id": "95e5b065-28c0-4e9b-be7e-edaf6a91b0b8",
   "metadata": {},
   "outputs": [],
   "source": [
    "# Pickle h_XGB\n",
    "with open('../models/gs_cnb.pkl', 'wb') as f:\n",
    "    pickle.dump(gs_cnb, f)"
   ]
  },
  {
   "cell_type": "markdown",
   "id": "cdcd3670-1990-4a56-91b9-db23db41e4ed",
   "metadata": {
    "tags": []
   },
   "source": [
    "# 5.4 (Bonus) DecisionTree and VoteSearch\n",
    "-----\n",
    "## Adapted from Lesson 6.04\n",
    "### (Didn't do as well as CountVectorizer and Multinomial Naive Bayes)"
   ]
  },
  {
   "cell_type": "code",
   "execution_count": 49,
   "id": "10e3895f-770c-499c-95d1-9ea8ec820560",
   "metadata": {},
   "outputs": [],
   "source": [
    "cvec = CountVectorizer()\n",
    "cvec.fit(X_train, y_train)\n",
    "X_train_cvec = cvec.transform(X_train)"
   ]
  },
  {
   "cell_type": "code",
   "execution_count": 50,
   "id": "957f7e83-776e-45d9-90fe-d07eda3b89e7",
   "metadata": {},
   "outputs": [],
   "source": [
    "vote = VotingClassifier([\n",
    "    ('tree', DecisionTreeClassifier()),\n",
    "    ('ada', AdaBoostClassifier()),\n",
    "    ('gb', GradientBoostingClassifier())\n",
    "])\n",
    "\n",
    "vote_params = {\n",
    "    'ada__n_estimators': [50, 75, 100],\n",
    "    'gb__n_estimators': [100, 125, 150],\n",
    "    'tree__max_depth': [None, 5]\n",
    "}\n",
    "\n",
    "## uncomment to run\n",
    "\n",
    "# v_gs = GridSearchCV(vote, param_grid=vote_params, cv = 5)\n",
    "# v_gs.fit(X_train_cvec, y_train)\n",
    "# print(v_gs.best_score_)\n",
    "# v_gs.best_params_"
   ]
  },
  {
   "cell_type": "markdown",
   "id": "4ea564d3-b25c-474e-b0a7-b00a0e0253e9",
   "metadata": {},
   "source": []
  },
  {
   "cell_type": "code",
   "execution_count": null,
   "id": "a68cbd83-812d-416d-821a-33756a53db88",
   "metadata": {},
   "outputs": [],
   "source": []
  }
 ],
 "metadata": {
  "kernelspec": {
   "display_name": "Python 3 (ipykernel)",
   "language": "python",
   "name": "python3"
  },
  "language_info": {
   "codemirror_mode": {
    "name": "ipython",
    "version": 3
   },
   "file_extension": ".py",
   "mimetype": "text/x-python",
   "name": "python",
   "nbconvert_exporter": "python",
   "pygments_lexer": "ipython3",
   "version": "3.9.12"
  }
 },
 "nbformat": 4,
 "nbformat_minor": 5
}
